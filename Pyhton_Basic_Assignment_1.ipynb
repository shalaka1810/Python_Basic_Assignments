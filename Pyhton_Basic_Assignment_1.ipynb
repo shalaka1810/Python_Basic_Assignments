{
 "cells": [
  {
   "cell_type": "markdown",
   "id": "033825c2",
   "metadata": {},
   "source": [
    "## Pyhton Basic Assignment 1"
   ]
  },
  {
   "cell_type": "raw",
   "id": "b6cc3124",
   "metadata": {},
   "source": [
    "1. In the below elements which of them are values or an expression? eg:- values can be\n",
    "integer or string and expressions will be mathematical operators.\n",
    "*\n",
    "'hello'\n",
    "-87.8\n",
    "-\n",
    "/\n",
    "+\n",
    "6"
   ]
  },
  {
   "cell_type": "raw",
   "id": "0e872e13",
   "metadata": {},
   "source": [
    "* -> Operator\n",
    "'hello' -> Value\n",
    "-87.8 -> Value\n",
    "- -> Operator\n",
    "/ -> Operator\n",
    "+ -> Operator\n",
    "6 -> Value"
   ]
  },
  {
   "cell_type": "raw",
   "id": "0220327a",
   "metadata": {},
   "source": [
    "2. What is the difference between string and variable?"
   ]
  },
  {
   "cell_type": "raw",
   "id": "d3916a94",
   "metadata": {},
   "source": [
    "String is a Datatype which is basically a series of characters. (eg-\"Tom\" is a string)\n",
    "\n",
    "Variable is a reference name given by the programmer which points to a value stored in the computer memory.(eg- v=10) \n",
    "One can change the assigned value to a variable at any point of time (eg- g = 10 g = 5)"
   ]
  },
  {
   "cell_type": "raw",
   "id": "fdd8e72c",
   "metadata": {},
   "source": [
    "3. Describe three different data types."
   ]
  },
  {
   "cell_type": "raw",
   "id": "9f1622ba",
   "metadata": {},
   "source": [
    "1) String- Its a non-primitive datatype which contains a series of characters (eg- \"Alexa\")\n",
    "2) Boolean- Its a primitive datatype that stores only binary value True or False (eg- d=True, b=False)\n",
    "3)Integer- Its a primitive datatype that represents whole numbers (eg- 10,588, -9 etc)"
   ]
  },
  {
   "cell_type": "raw",
   "id": "cfd654b0",
   "metadata": {},
   "source": [
    "4. What is an expression made up of? What do all expressions do?"
   ]
  },
  {
   "cell_type": "raw",
   "id": "e914cf6f",
   "metadata": {},
   "source": [
    "Expressions are made of values and operators. Expressions output a result.\n",
    "Eg- 10/5 = 2 (values are 10 and 5, operator is the division operator /)\n",
    "\"Frog\"*2 will result in FrogFrog (In Python)(Value is the string \"Frog\" and operator is the multiplication operator *)"
   ]
  },
  {
   "cell_type": "raw",
   "id": "3e179f0f",
   "metadata": {},
   "source": [
    "5. This assignment statements, like spam = 10. What is the difference between an\n",
    "expression and a statement?"
   ]
  },
  {
   "cell_type": "raw",
   "id": "3d77259a",
   "metadata": {},
   "source": [
    "Assignment Statements are used to assign a value to a variable (eg- var = 5--> var variable has been asssigned the value as 5)\n",
    "Expressions are used to evaluate conditions based on the Expression output. (eg- 10/5 < 5 ---this condition will be evaluated as true as the output of the expression 10/5 = 2 which is less than 5)"
   ]
  },
  {
   "cell_type": "raw",
   "id": "773d03d9",
   "metadata": {},
   "source": [
    "6. After running the following code, what does the variable bacon contain?\n",
    "bacon = 22\n",
    "bacon + 1"
   ]
  },
  {
   "cell_type": "raw",
   "id": "0908f693",
   "metadata": {},
   "source": [
    "bacon will hold the value 23"
   ]
  },
  {
   "cell_type": "raw",
   "id": "11695968",
   "metadata": {},
   "source": [
    "7. What should the values of the following two terms be?\n",
    "'spam'+'spamspam'\n",
    "'spam'* 3"
   ]
  },
  {
   "cell_type": "raw",
   "id": "832c219a",
   "metadata": {},
   "source": [
    "'spam'+'spamspam'--> 'spamspamspam'(This operation is simply concatenating the string 'spamspam' to 'spam' )\n",
    "'spam'* 3-->'spamspamspam' (This operation is also concatenating but in a different way. It is conacatenating the string 'spam' to itself three times)\n",
    "\n",
    "8. Why is eggs a valid variable name while 100 is invalid?"
   ]
  },
  {
   "cell_type": "raw",
   "id": "2d112d55",
   "metadata": {},
   "source": [
    "According to variable naming nomenclature, the variable name should not start with a digit. Thats why 100 is not a valid variable name"
   ]
  },
  {
   "cell_type": "raw",
   "id": "4ebc2e11",
   "metadata": {},
   "source": [
    "9. What three functions can be used to get the integer, floating-point number, or string\n",
    "version of a value?"
   ]
  },
  {
   "cell_type": "raw",
   "id": "76490039",
   "metadata": {},
   "source": [
    "The inbuilt fuctions int(), float(), and str() in pyhton can be used to get the respective versions of a value."
   ]
  },
  {
   "cell_type": "raw",
   "id": "c9113f54",
   "metadata": {},
   "source": [
    "10. Why does this expression cause an error? How can you fix it?\n",
    "'I have eaten' + 99 + 'burritos.'"
   ]
  },
  {
   "cell_type": "raw",
   "id": "ad9c526b",
   "metadata": {},
   "source": [
    "The expression causes an error because a string cannot be concatenated with an integer. We can fix this by converting the integer value 99 to a string. 'I have eaten' + '99' + 'burritos.' or 'I have eaten' + str(99) + 'burritos.'"
   ]
  },
  {
   "cell_type": "code",
   "execution_count": null,
   "id": "8c3945c6",
   "metadata": {},
   "outputs": [],
   "source": []
  }
 ],
 "metadata": {
  "kernelspec": {
   "display_name": "Python 3 (ipykernel)",
   "language": "python",
   "name": "python3"
  },
  "language_info": {
   "codemirror_mode": {
    "name": "ipython",
    "version": 3
   },
   "file_extension": ".py",
   "mimetype": "text/x-python",
   "name": "python",
   "nbconvert_exporter": "python",
   "pygments_lexer": "ipython3",
   "version": "3.8.12"
  }
 },
 "nbformat": 4,
 "nbformat_minor": 5
}
