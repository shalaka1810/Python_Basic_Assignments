{
 "cells": [
  {
   "cell_type": "markdown",
   "id": "033825c2",
   "metadata": {},
   "source": [
    "## Pyhton Basic Assignment 1"
   ]
  },
  {
   "cell_type": "raw",
   "id": "11f515af",
   "metadata": {},
   "source": [
    "1. In the below elements which of them are values or an expression? eg:- values can be\n",
    "integer or string and expressions will be mathematical operators.\n",
    "*\n",
    "'hello'\n",
    "-87.8\n",
    "-\n",
    "/\n",
    "+\n",
    "6"
   ]
  },
  {
   "cell_type": "raw",
   "id": "5cc2adb7",
   "metadata": {},
   "source": [
    "* -> Operator\n",
    "'hello' -> Value\n",
    "-87.8 -> Value\n",
    "- -> Operator\n",
    "/ -> Operator\n",
    "+ -> Operator\n",
    "6 -> Value"
   ]
  },
  {
   "cell_type": "raw",
   "id": "351bd12f",
   "metadata": {},
   "source": [
    "2. What is the difference between string and variable?"
   ]
  },
  {
   "cell_type": "raw",
   "id": "4ab43d49",
   "metadata": {},
   "source": [
    "String is a Datatype which is basically a series of characters. (eg-\"Tom\" is a string)\n",
    "\n",
    "Variable is a reference name given by the programmer which points to a value stored in the computer memory.(eg- v=10) \n",
    "One can change the assigned value to a variable at any point of time (eg- g = 10 g = 5)"
   ]
  },
  {
   "cell_type": "raw",
   "id": "08e78654",
   "metadata": {},
   "source": [
    "3. Describe three different data types."
   ]
  },
  {
   "cell_type": "raw",
   "id": "838621b9",
   "metadata": {},
   "source": [
    "1) String- Its a non-primitive datatype which contains a series of characters (eg- \"Alexa\")\n",
    "2) Boolean- Its a primitive datatype that stores only binary value True or False (eg- d=True, b=False)\n",
    "3)Integer- Its a primitive datatype that represents whole numbers (eg- 10,588, -9 etc)"
   ]
  },
  {
   "cell_type": "raw",
   "id": "50697280",
   "metadata": {},
   "source": [
    "4. What is an expression made up of? What do all expressions do?"
   ]
  },
  {
   "cell_type": "raw",
   "id": "e657c21d",
   "metadata": {},
   "source": [
    "Expressions are made of values and operators. Expressions output a result.\n",
    "Eg- 10/5 = 2 (values are 10 and 5, operator is the division operator /)\n",
    "\"Frog\"*2 will result in FrogFrog (In Python)(Value is the string \"Frog\" and operator is the multiplication operator *)"
   ]
  },
  {
   "cell_type": "raw",
   "id": "15d55872",
   "metadata": {},
   "source": [
    "5. This assignment statements, like spam = 10. What is the difference between an\n",
    "expression and a statement?"
   ]
  },
  {
   "cell_type": "raw",
   "id": "3c930306",
   "metadata": {},
   "source": [
    "Assignment Statements are used to assign a value to a variable (eg- var = 5--> var variable has been asssigned the value as 5)\n",
    "Expressions are used to evaluate conditions based on the Expression output. (eg- 10/5 < 5 ---this condition will be evaluated as true as the output of the expression 10/5 = 2 which is less than 5)"
   ]
  },
  {
   "cell_type": "raw",
   "id": "063c97f0",
   "metadata": {},
   "source": [
    "6. After running the following code, what does the variable bacon contain?\n",
    "bacon = 22\n",
    "bacon + 1"
   ]
  },
  {
   "cell_type": "raw",
   "id": "30366eb5",
   "metadata": {},
   "source": [
    "bacon will hold the value 23"
   ]
  },
  {
   "cell_type": "raw",
   "id": "a8d50693",
   "metadata": {},
   "source": [
    "7. What should the values of the following two terms be?\n",
    "'spam'+'spamspam'\n",
    "'spam'* 3"
   ]
  },
  {
   "cell_type": "raw",
   "id": "35ce32ff",
   "metadata": {},
   "source": [
    "'spam'+'spamspam'--> 'spamspamspam'(This operation is simply concatenating the string 'spamspam' to 'spam' )\n",
    "'spam'* 3-->'spamspamspam' (This operation is also concatenating but in a different way. It is conacatenating the string 'spam' to itself three times)"
   ]
  },
  {
   "cell_type": "raw",
   "id": "a8d94e70",
   "metadata": {},
   "source": [
    "8. Why is eggs a valid variable name while 100 is invalid?"
   ]
  },
  {
   "cell_type": "raw",
   "id": "90d0d811",
   "metadata": {},
   "source": [
    "According to variable naming nomenclature, the variable name should not start with a digit. Thats why 100 is not a valid variable name"
   ]
  },
  {
   "cell_type": "raw",
   "id": "abd5c551",
   "metadata": {},
   "source": [
    "9. What three functions can be used to get the integer, floating-point number, or string\n",
    "version of a value?"
   ]
  },
  {
   "cell_type": "raw",
   "id": "4fefbf7c",
   "metadata": {},
   "source": [
    "The inbuilt fuctions int(), float(), and str() in pyhton can be used to get the respective versions of a value."
   ]
  },
  {
   "cell_type": "raw",
   "id": "4cff00d6",
   "metadata": {},
   "source": [
    "10. Why does this expression cause an error? How can you fix it?\n",
    "'I have eaten' + 99 + 'burritos.'"
   ]
  },
  {
   "cell_type": "raw",
   "id": "88808b46",
   "metadata": {},
   "source": [
    "The expression causes an error because a string cannot be concatenated with an integer. We can fix this by converting the integer value 99 to a string. 'I have eaten' + '99' + 'burritos.' or 'I have eaten' + str(99) + 'burritos.'"
   ]
  },
  {
   "cell_type": "code",
   "execution_count": null,
   "id": "8c3945c6",
   "metadata": {},
   "outputs": [],
   "source": []
  }
 ],
 "metadata": {
  "kernelspec": {
   "display_name": "Python 3 (ipykernel)",
   "language": "python",
   "name": "python3"
  },
  "language_info": {
   "codemirror_mode": {
    "name": "ipython",
    "version": 3
   },
   "file_extension": ".py",
   "mimetype": "text/x-python",
   "name": "python",
   "nbconvert_exporter": "python",
   "pygments_lexer": "ipython3",
   "version": "3.8.12"
  }
 },
 "nbformat": 4,
 "nbformat_minor": 5
}
