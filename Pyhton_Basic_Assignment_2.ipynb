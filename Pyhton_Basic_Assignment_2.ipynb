{
 "cells": [
  {
   "cell_type": "code",
   "execution_count": null,
   "id": "7bac87c0",
   "metadata": {},
   "outputs": [],
   "source": [
    "1.What are the two values of the Boolean data type? How do you write them?"
   ]
  },
  {
   "cell_type": "code",
   "execution_count": null,
   "id": "e45530b4",
   "metadata": {},
   "outputs": [],
   "source": [
    "The Boolean data type has values True and False. While initializing a Boolean variable, we write it as a=True or b=False in python"
   ]
  },
  {
   "cell_type": "code",
   "execution_count": null,
   "id": "5b6312e4",
   "metadata": {},
   "outputs": [],
   "source": [
    "2. What are the three different types of Boolean operators?"
   ]
  },
  {
   "cell_type": "code",
   "execution_count": null,
   "id": "9470fa45",
   "metadata": {},
   "outputs": [],
   "source": [
    "The three boolean operators are and or not."
   ]
  },
  {
   "cell_type": "code",
   "execution_count": null,
   "id": "aa428d64",
   "metadata": {},
   "outputs": [],
   "source": [
    "3. Make a list of each Boolean operator's truth tables (i.e. every possible combination of Boolean values for the operator and what it evaluate )."
   ]
  },
  {
   "cell_type": "code",
   "execution_count": null,
   "id": "90c6d590",
   "metadata": {},
   "outputs": [],
   "source": [
    "AND - \n",
    "True   True    - True\n",
    "True   False   - False\n",
    "False  True    - False\n",
    "False  False   - False\n",
    "\n",
    "OR - \n",
    "True   True    - True\n",
    "True   False   - True\n",
    "False  True    - True\n",
    "False  False   - False\n",
    "\n",
    "NOT -\n",
    "True - False\n",
    "False - True\n"
   ]
  },
  {
   "cell_type": "code",
   "execution_count": null,
   "id": "947386ba",
   "metadata": {},
   "outputs": [],
   "source": [
    "4. What are the values of the following expressions?\n",
    "(5 > 4) and (3 == 5)\n",
    "not (5 > 4)\n",
    "(5 > 4) or (3 == 5)\n",
    "not ((5 > 4) or (3 == 5))\n",
    "(True and True) and (True == False)\n",
    "(not False) or (not True)"
   ]
  },
  {
   "cell_type": "code",
   "execution_count": null,
   "id": "e7df7885",
   "metadata": {},
   "outputs": [],
   "source": [
    "(5 > 4) and (3 == 5) - False\n",
    "not (5 > 4) - False\n",
    "(5 > 4) or (3 == 5) - True\n",
    "not ((5 > 4) or (3 == 5)) - False\n",
    "(True and True) and (True == False) - False\n",
    "(not False) or (not True) - True"
   ]
  },
  {
   "cell_type": "code",
   "execution_count": null,
   "id": "7d63bc1d",
   "metadata": {},
   "outputs": [],
   "source": [
    "5. What are the six comparison operators?"
   ]
  },
  {
   "cell_type": "code",
   "execution_count": null,
   "id": "d519f011",
   "metadata": {},
   "outputs": [],
   "source": [
    ">  - greater than\n",
    "<  - less than\n",
    "== - equal to\n",
    "!= - not equal to\n",
    ">= - greater than or equal to\n",
    "<= - less than or equal to\n"
   ]
  },
  {
   "cell_type": "code",
   "execution_count": null,
   "id": "87db9341",
   "metadata": {},
   "outputs": [],
   "source": [
    "6. How do you tell the difference between the equal to and assignment operators?Describe a condition and when you would use one."
   ]
  },
  {
   "cell_type": "code",
   "execution_count": null,
   "id": "74ca48c2",
   "metadata": {},
   "outputs": [],
   "source": [
    "Equal to operator is written as \"==\" and assignment operator is written as \"=\". \n",
    "If i have ti assign value to variable a then i will use assignment operator as \"a=4\"\n",
    "If i have to check if value of a is equal to 4 then I will use the equal to operator it as \"if a==4\" "
   ]
  },
  {
   "cell_type": "code",
   "execution_count": null,
   "id": "b44ab5d5",
   "metadata": {},
   "outputs": [],
   "source": [
    "7. Identify the three blocks in this code:\n",
    "spam = 0\n",
    "if spam == 10:\n",
    "print('eggs')\n",
    "if spam > 5:\n",
    "print('bacon')\n",
    "else:\n",
    "print('ham')\n",
    "print('spam')\n",
    "print('spam')"
   ]
  },
  {
   "cell_type": "code",
   "execution_count": null,
   "id": "942b46f1",
   "metadata": {},
   "outputs": [],
   "source": [
    "Block 1: if block\n",
    "if spam == 10:\n",
    "print('eggs')\n",
    "\n",
    "Block 2: If-else block\n",
    "if spam > 5:\n",
    "print('bacon')\n",
    "else:\n",
    "print('ham')"
   ]
  },
  {
   "cell_type": "code",
   "execution_count": null,
   "id": "d523314e",
   "metadata": {},
   "outputs": [],
   "source": [
    "8. Write code that prints Hello if 1 is stored in spam, prints Howdy if 2 is stored in spam, and prints Greetings! if anything else is stored in spam."
   ]
  },
  {
   "cell_type": "code",
   "execution_count": 14,
   "id": "e044f206",
   "metadata": {},
   "outputs": [],
   "source": [
    " if spam==1:\n",
    "    print(\"Hello\")\n",
    "elif spam==2:\n",
    "    print(\"Howdy\")\n",
    "else:\n",
    "    print(\"Greetings!\")"
   ]
  },
  {
   "cell_type": "code",
   "execution_count": null,
   "id": "237e222c",
   "metadata": {},
   "outputs": [],
   "source": [
    "9.If your programme is stuck in an endless loop, what keys you’ll press?"
   ]
  },
  {
   "cell_type": "code",
   "execution_count": null,
   "id": "796025a6",
   "metadata": {},
   "outputs": [],
   "source": [
    "Ctrl+C"
   ]
  },
  {
   "cell_type": "code",
   "execution_count": null,
   "id": "3144e725",
   "metadata": {},
   "outputs": [],
   "source": [
    "10. How can you tell the difference between break and continue?"
   ]
  },
  {
   "cell_type": "code",
   "execution_count": null,
   "id": "b1d7aec7",
   "metadata": {},
   "outputs": [],
   "source": [
    "Break- on meeting a certain condition, break statement will result in exit from the loop\n",
    "eg: for i in range(5):\n",
    "        if i==3:\n",
    "            break\n",
    "        else:\n",
    "            print(i)\n",
    "output: 1\n",
    "        2\n",
    "\n",
    "Continue- In case of Continue, the condition would be skipped and the loop will continue to run. Taking the same example above.\n",
    "eg: for i in range(5):\n",
    "        if i==3:\n",
    "            continue\n",
    "        else:\n",
    "            print(i)\n",
    "output: 1\n",
    "        2\n",
    "        4"
   ]
  },
  {
   "cell_type": "code",
   "execution_count": null,
   "id": "4ab13385",
   "metadata": {},
   "outputs": [],
   "source": [
    "11. In a for loop, what is the difference between range(10), range(0, 10), and range(0, 10, 1)?"
   ]
  },
  {
   "cell_type": "code",
   "execution_count": null,
   "id": "807a60cf",
   "metadata": {},
   "outputs": [],
   "source": [
    "range(10) - The range will start from 0 and end on 9. Default starting point is taken as 0 and default step size is 1.\n",
    "range(0, 10) - The range will start from 0 and end on 9. Default step size is taken as 1\n",
    "range(0, 10, 1) - The range will start from 0 and end on 9 taking a step of 1."
   ]
  },
  {
   "cell_type": "code",
   "execution_count": null,
   "id": "95ac80cd",
   "metadata": {},
   "outputs": [],
   "source": [
    "12. Write a short program that prints the numbers 1 to 10 using a for loop. Then write an equivalent program that prints the numbers 1 to 10 using a while loop."
   ]
  },
  {
   "cell_type": "code",
   "execution_count": 22,
   "id": "d50daaa1",
   "metadata": {},
   "outputs": [],
   "source": [
    "for i in range(1,11):\n",
    "    print(i)\n",
    "    \n",
    "i=1\n",
    "while i<11:\n",
    "    print(i)\n",
    "    i+=1"
   ]
  },
  {
   "cell_type": "code",
   "execution_count": null,
   "id": "54533204",
   "metadata": {},
   "outputs": [],
   "source": [
    "13. If you had a function named bacon() inside a module named spam, how would you call it after importing spam?"
   ]
  },
  {
   "cell_type": "code",
   "execution_count": null,
   "id": "3d52651d",
   "metadata": {},
   "outputs": [],
   "source": [
    "spam.bacon()"
   ]
  }
 ],
 "metadata": {
  "kernelspec": {
   "display_name": "Python 3 (ipykernel)",
   "language": "python",
   "name": "python3"
  },
  "language_info": {
   "codemirror_mode": {
    "name": "ipython",
    "version": 3
   },
   "file_extension": ".py",
   "mimetype": "text/x-python",
   "name": "python",
   "nbconvert_exporter": "python",
   "pygments_lexer": "ipython3",
   "version": "3.8.12"
  }
 },
 "nbformat": 4,
 "nbformat_minor": 5
}
